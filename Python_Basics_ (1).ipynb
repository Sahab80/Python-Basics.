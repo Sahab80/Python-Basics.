{
  "nbformat": 4,
  "nbformat_minor": 0,
  "metadata": {
    "colab": {
      "provenance": []
    },
    "kernelspec": {
      "name": "python3",
      "display_name": "Python 3"
    },
    "language_info": {
      "name": "python"
    }
  },
  "cells": [
    {
      "cell_type": "markdown",
      "source": [
        "# Python Basics Questions"
      ],
      "metadata": {
        "id": "th1bgwlSUXmv"
      }
    },
    {
      "cell_type": "markdown",
      "source": [
        "Q1. What is Python, and why is it popular ?\n",
        "\n",
        "-> Python is a popular programming language that's easy to read and write. People love it because:\n",
        "\n",
        "- It's simple and beginner-friendly.\n",
        "\n",
        "- You can use it for almost anything—websites, apps, data analysis, AI, automation, and more.\n",
        "\n",
        "- It has tons of free tools and libraries that save time.\n",
        "\n",
        " Python is powerful, easy to learn, and super flexible."
      ],
      "metadata": {
        "id": "sERp-FZcSsbO"
      }
    },
    {
      "cell_type": "markdown",
      "source": [
        "Q2. What is an interpreter in Python ?\n",
        "\n",
        "-> An interpreter in Python is the tool that reads and runs your code one line at a time.\n",
        "\n",
        "In simple words:\n",
        "\n",
        "It's like a translator that reads your Python instructions and tells the computer what to do, step by step."
      ],
      "metadata": {
        "id": "eFzSYuXElRDP"
      }
    },
    {
      "cell_type": "markdown",
      "source": [
        "Q3. What are pre-defined keywords in Python ?\n",
        "\n",
        "-> An interpreter in Python is the tool that reads and runs your code one line at a time.\n",
        "\n",
        "In simple words:\n",
        "\n",
        "It's like a translator that reads your Python instructions and tells the computer what to do, step by step.\n"
      ],
      "metadata": {
        "id": "7L3wehNTl8OY"
      }
    },
    {
      "cell_type": "markdown",
      "source": [
        "Q4. Can keywords be used as variable names ?\n",
        "\n",
        "-> No, keywords can't be used as variable names in Python."
      ],
      "metadata": {
        "id": "3_F1QRP7mJUn"
      }
    },
    {
      "cell_type": "markdown",
      "source": [
        "Q5. What is mutability in Python ?\n",
        "\n",
        "->Mutable objects, such as lists and dictionaries, can be modified after creation,"
      ],
      "metadata": {
        "id": "kb7NM3qREQo6"
      }
    },
    {
      "cell_type": "markdown",
      "source": [
        "Q6. Why are lists mutable, but tuples are immutable ?\n",
        "\n",
        "-> Lists are mutable because we can change, add, or remove items after creating them.\n",
        "Tuples are immutable because they are meant to stay the same once created."
      ],
      "metadata": {
        "id": "9XZ6iy-YE76x"
      }
    },
    {
      "cell_type": "markdown",
      "source": [
        "Q7. What is the difference between “==” and “is” operators in Python ?\n",
        "\n",
        "ans-\n",
        "- '==' checks if values are the same\n",
        "- 'is' checks if they are the exact same object in memory"
      ],
      "metadata": {
        "id": "ZgjHGyWoFnMY"
      }
    },
    {
      "cell_type": "markdown",
      "source": [
        "Q8. What are logical operators in Python ?\n",
        "\n",
        " Logical operators are used to combine multiple conditions.\n",
        "- the main logical operators are:\n",
        "1. and -True if both conditions are true.\n",
        "2. or -True if atleast one condition are true\n",
        "3. not - Reverses the condition (True becomes False, and vice versa)"
      ],
      "metadata": {
        "id": "aTPsiWslGlnJ"
      }
    },
    {
      "cell_type": "markdown",
      "source": [
        "Q9. What is type casting in Python ?\n",
        "\n",
        "Type casting in Python means changing the type of a value from one data type to another.\n",
        "\n",
        "For example, turning a string into a number, or a number into a string:\n"
      ],
      "metadata": {
        "id": "YOi-xv4CYFNZ"
      }
    },
    {
      "cell_type": "code",
      "source": [
        "x = \"5\"\n",
        "y = int(x)  # Now y is the number 5, not the string \"5\""
      ],
      "metadata": {
        "id": "OU7STJjJYbWi"
      },
      "execution_count": null,
      "outputs": []
    },
    {
      "cell_type": "markdown",
      "source": [
        "Q10. What is the difference between implicit and explicit type casting ?\n",
        "\n",
        "-> Difference between Implicit and Explicit Type Casting (in short and simple terms):\n",
        "\n",
        "- Implicit Type Casting:\n",
        "Python automatically converts one data type to another when it's safe.\n",
        "->Example: int + float → result is float.\n",
        "\n",
        "- Explicit Type Casting:\n",
        "You manually convert one data type to another using functions like int(), float(), or str().\n",
        "->Example: int(\"5\") → converts string \"5\" to number 5."
      ],
      "metadata": {
        "id": "UITeljFzZHXx"
      }
    },
    {
      "cell_type": "markdown",
      "source": [
        "Q11. What is the purpose of conditional statements in Python ?\n",
        "\n",
        "->  Conditional statements help the program do different things in different situations.\n",
        "\n",
        "Example:\n",
        "If you're hungry, eat. Otherwise, wait."
      ],
      "metadata": {
        "id": "x0jEwrvE4sq4"
      }
    },
    {
      "cell_type": "markdown",
      "source": [
        "Q12. How does the elif statement work ?\n",
        "\n",
        "->  elif lets you check more conditions after if, so your program can make better decisions."
      ],
      "metadata": {
        "id": "w6qIsGN36RoH"
      }
    },
    {
      "cell_type": "code",
      "source": [
        "# example\n",
        "age = 16\n",
        "\n",
        "if age < 13:\n",
        "    print(\"You're a child.\")\n",
        "elif age >= 13 and age < 18:\n",
        "    print(\"You're a teenager.\")\n",
        "else:\n",
        "    print(\"You're an adult.\")\n"
      ],
      "metadata": {
        "colab": {
          "base_uri": "https://localhost:8080/"
        },
        "id": "3TkQlNi46Q6n",
        "outputId": "78ee63c7-0c99-44be-c7af-eb128bf143b4"
      },
      "execution_count": 3,
      "outputs": [
        {
          "output_type": "stream",
          "name": "stdout",
          "text": [
            "You're a teenager.\n"
          ]
        }
      ]
    },
    {
      "cell_type": "markdown",
      "source": [
        "Q13. What is the difference between for and while loops ?\n",
        "difference between for and while loop-\n",
        "- For Loop\n",
        "A for loop is used when the number of iterations is known. It is ideal for looping through sequences like lists or ranges with a defined start and end.\n",
        "\n",
        "- While Loop\n",
        "A while loop is used when the number of iterations is unknown. It runs as long as a given condition is true."
      ],
      "metadata": {
        "id": "ujq5dWCJ9Lcw"
      }
    },
    {
      "cell_type": "markdown",
      "source": [
        "Q14. Describe a scenario where a while loop is more suitable than a for loop.\n",
        "\n",
        "->  A while loop is more suitable when you don't know how many times you need to repeat something. For example, if you're asking a user to enter the correct password, you can use a while loop to keep asking until they get it right. Since you don't know how many attempts they'll need, a for loop wouldn't be the best choice."
      ],
      "metadata": {
        "id": "GoOwC-opMZew"
      }
    },
    {
      "cell_type": "markdown",
      "source": [
        "# Practical Questions\n"
      ],
      "metadata": {
        "id": "icP2DNqaUi6W"
      }
    },
    {
      "cell_type": "markdown",
      "source": [
        "1. Write a Python program to print \"Hello, World!\""
      ],
      "metadata": {
        "id": "Tdk8ng7qUxTH"
      }
    },
    {
      "cell_type": "code",
      "source": [
        "print(\"Hello, World!\")"
      ],
      "metadata": {
        "colab": {
          "base_uri": "https://localhost:8080/"
        },
        "id": "iv6DFNhhVGRu",
        "outputId": "982b1661-39c1-4a51-95e0-013dd116daf4"
      },
      "execution_count": 1,
      "outputs": [
        {
          "output_type": "stream",
          "name": "stdout",
          "text": [
            "Hello, World!\n"
          ]
        }
      ]
    },
    {
      "cell_type": "markdown",
      "source": [
        "2. Write a Python program that displays your name and age8\n"
      ],
      "metadata": {
        "id": "paHEznw_VKS4"
      }
    },
    {
      "cell_type": "code",
      "source": [
        "name = \"Md AQib\"     # Replace with your name\n",
        "age = 22          # Replace with your age\n",
        "\n",
        "print(\"My name is\", name)\n",
        "print(\"I am\", age, \"years old\")"
      ],
      "metadata": {
        "colab": {
          "base_uri": "https://localhost:8080/"
        },
        "id": "UspKlEWlVY1e",
        "outputId": "f64c61ae-69ae-458a-b645-c0ea37bfb3cf"
      },
      "execution_count": 2,
      "outputs": [
        {
          "output_type": "stream",
          "name": "stdout",
          "text": [
            "My name is Md AQib\n",
            "I am 22 years old\n"
          ]
        }
      ]
    },
    {
      "cell_type": "markdown",
      "source": [
        "3. Write code to print all the pre-defined keywords in Python using the keyword library."
      ],
      "metadata": {
        "id": "UUIdrhumg-7n"
      }
    },
    {
      "cell_type": "code",
      "source": [
        "import keyword\n",
        "\n",
        "# Get the list of all Python keywords\n",
        "keywords = keyword.kwlist\n",
        "\n",
        "# Print the keywords\n",
        "print(\"Python Keywords:\")\n",
        "for kw in keywords:\n",
        "    print(kw)\n"
      ],
      "metadata": {
        "colab": {
          "base_uri": "https://localhost:8080/"
        },
        "id": "p9RrWEBGi49Z",
        "outputId": "fb4b6fea-6088-4fdd-a9c3-638cac7f33b5"
      },
      "execution_count": 2,
      "outputs": [
        {
          "output_type": "stream",
          "name": "stdout",
          "text": [
            "Python Keywords:\n",
            "False\n",
            "None\n",
            "True\n",
            "and\n",
            "as\n",
            "assert\n",
            "async\n",
            "await\n",
            "break\n",
            "class\n",
            "continue\n",
            "def\n",
            "del\n",
            "elif\n",
            "else\n",
            "except\n",
            "finally\n",
            "for\n",
            "from\n",
            "global\n",
            "if\n",
            "import\n",
            "in\n",
            "is\n",
            "lambda\n",
            "nonlocal\n",
            "not\n",
            "or\n",
            "pass\n",
            "raise\n",
            "return\n",
            "try\n",
            "while\n",
            "with\n",
            "yield\n"
          ]
        }
      ]
    },
    {
      "cell_type": "markdown",
      "source": [
        "4. Write a program that checks if a given word is a Python keyword."
      ],
      "metadata": {
        "id": "KNWh7Cnol4Sw"
      }
    },
    {
      "cell_type": "code",
      "source": [
        "import keyword\n",
        "\n",
        "# Ask the user to enter a word\n",
        "word = input(\"Enter a word: \")\n",
        "\n",
        "# Check if the word is a Python keyword\n",
        "if keyword.iskeyword(word):\n",
        "    print(f\"'{word}' is a Python keyword.\")\n",
        "else:\n",
        "    print(f\"'{word}' is NOT a Python keyword.\")\n"
      ],
      "metadata": {
        "colab": {
          "base_uri": "https://localhost:8080/"
        },
        "id": "kYkyOD1xlgtc",
        "outputId": "966d0f01-534d-431c-d7a5-b9712cb4d08f"
      },
      "execution_count": 5,
      "outputs": [
        {
          "output_type": "stream",
          "name": "stdout",
          "text": [
            "Enter a word: while\n",
            "'while' is a Python keyword.\n"
          ]
        }
      ]
    },
    {
      "cell_type": "markdown",
      "source": [
        "5. Create a list and tuple in Python, and demonstrate how attempting to change an element works differently\n",
        "for each."
      ],
      "metadata": {
        "id": "Mb5Q-ZUdv8fn"
      }
    },
    {
      "cell_type": "code",
      "source": [
        "# Creating a list\n",
        "my_list = [1, 2, 3]\n",
        "\n",
        "# Creating a tuple\n",
        "my_tuple = (4, 5, 6)\n",
        "\n",
        "# Attempting to change an element in the list\n",
        "my_list[0] = 10  # This is allowed\n",
        "print(my_list)  # Output: [10, 2, 3]\n",
        "\n",
        "# Attempting to change an element in the tuple\n",
        "try:\n",
        "    my_tuple[0] = 40  # This will raise a TypeError\n",
        "except TypeError as e:\n",
        "    print(e)  # Output: 'tuple' object does not support item assignment\n",
        "\n",
        "print(my_tuple) # Output: (4, 5, 6)"
      ],
      "metadata": {
        "colab": {
          "base_uri": "https://localhost:8080/"
        },
        "id": "rqeiglIfxP-v",
        "outputId": "dd4c82a6-e4b9-423d-e1bf-498149518a23"
      },
      "execution_count": 9,
      "outputs": [
        {
          "output_type": "stream",
          "name": "stdout",
          "text": [
            "[10, 2, 3]\n",
            "'tuple' object does not support item assignment\n",
            "(4, 5, 6)\n"
          ]
        }
      ]
    },
    {
      "cell_type": "markdown",
      "source": [
        "6. Write a function to demonstrate the behavior of mutable and immutable arguments."
      ],
      "metadata": {
        "id": "N3VTo76PqL7-"
      }
    },
    {
      "cell_type": "code",
      "source": [
        "def modify_arguments(immutable, mutable):\n",
        "    immutable += 1\n",
        "    mutable.append(4)\n",
        "\n",
        "# Immutable argument (integer)\n",
        "num = 10\n",
        "# Mutable argument (list)\n",
        "my_list = [1, 2, 3]\n",
        "\n",
        "print(\"Before function call:\")\n",
        "print(\"Immutable:\", num)\n",
        "print(\"Mutable:\", my_list)\n",
        "\n",
        "modify_arguments(num, my_list)\n",
        "\n",
        "print(\"\\nAfter function call:\")\n",
        "print(\"Immutable:\", num)\n",
        "print(\"Mutable:\", my_list)"
      ],
      "metadata": {
        "colab": {
          "base_uri": "https://localhost:8080/"
        },
        "id": "6c3slV15nYtl",
        "outputId": "13c4c752-f92a-46d6-ff97-af32bcc31bb4"
      },
      "execution_count": 6,
      "outputs": [
        {
          "output_type": "stream",
          "name": "stdout",
          "text": [
            "Before function call:\n",
            "Immutable: 10\n",
            "Mutable: [1, 2, 3]\n",
            "\n",
            "After function call:\n",
            "Immutable: 10\n",
            "Mutable: [1, 2, 3, 4]\n"
          ]
        }
      ]
    },
    {
      "cell_type": "markdown",
      "source": [
        "7.Write a program that performs basic arithmetic operations on two user-input numbers."
      ],
      "metadata": {
        "id": "QNfPtVy1xr9X"
      }
    },
    {
      "cell_type": "code",
      "source": [
        "# Get input from the user\n",
        "num1 = float(input(\"Enter the first number: \"))\n",
        "num2 = float(input(\"Enter the second number: \"))\n",
        "\n",
        "# Perform basic arithmetic operations\n",
        "print(\"Addition:\", num1 + num2)\n",
        "print(\"Subtraction:\", num1 - num2)\n",
        "print(\"Multiplication:\", num1 * num2)\n",
        "\n",
        "# Check for division by zero\n",
        "if num2 != 0:\n",
        "    print(\"Division:\", num1 / num2)\n",
        "else:\n",
        "    print(\"Division: Cannot divide by zero.\")\n"
      ],
      "metadata": {
        "colab": {
          "base_uri": "https://localhost:8080/"
        },
        "id": "qIcTxW3uuH5t",
        "outputId": "4caa0f76-02a9-4006-bb73-aca898b2ee02"
      },
      "execution_count": 10,
      "outputs": [
        {
          "output_type": "stream",
          "name": "stdout",
          "text": [
            "Enter the first number: 890\n",
            "Enter the second number: 76\n",
            "Addition: 966.0\n",
            "Subtraction: 814.0\n",
            "Multiplication: 67640.0\n",
            "Division: 11.710526315789474\n"
          ]
        }
      ]
    },
    {
      "cell_type": "markdown",
      "source": [
        "8. Write a program to demonstrate the use of logical operators."
      ],
      "metadata": {
        "id": "tJ6ckULrL3oM"
      }
    },
    {
      "cell_type": "code",
      "source": [
        "a = 10\n",
        "b = 20\n",
        "\n",
        "# Logical AND\n",
        "if a > 5 and b < 25:\n",
        "    print(\"Both conditions are true\")\n",
        "else:\n",
        "    print(\"At least one condition is false\")\n",
        "\n",
        "# Logical OR\n",
        "if a > 15 or b < 25:\n",
        "    print(\"At least one condition is true\")\n",
        "else:\n",
        "    print(\"Both conditions are false\")\n",
        "\n",
        "# Logical NOT\n",
        "if not a > 15:\n",
        "    print(\"Condition is false\")\n",
        "else:\n",
        "    print(\"Condition is true\")"
      ],
      "metadata": {
        "colab": {
          "base_uri": "https://localhost:8080/"
        },
        "id": "hf9Hqe2VAhaY",
        "outputId": "8fda3990-55ba-46aa-e9a1-26e263dc85b1"
      },
      "execution_count": 11,
      "outputs": [
        {
          "output_type": "stream",
          "name": "stdout",
          "text": [
            "Both conditions are true\n",
            "At least one condition is true\n",
            "Condition is false\n"
          ]
        }
      ]
    },
    {
      "cell_type": "markdown",
      "source": [
        "9. Write a Python program to convert user input from string to integer, float, and boolean types."
      ],
      "metadata": {
        "id": "TSK2a_FxTHb1"
      }
    },
    {
      "cell_type": "code",
      "source": [
        "def convert_string_to_types(input_string):\n",
        "    \"\"\"Converts a string to integer, float, and boolean types.\"\"\"\n",
        "    try:\n",
        "        integer_value = int(input_string)\n",
        "    except ValueError:\n",
        "        integer_value = None\n",
        "        print(\"Cannot convert to integer\")\n",
        "\n",
        "    try:\n",
        "        float_value = float(input_string)\n",
        "    except ValueError:\n",
        "         float_value = None\n",
        "         print(\"Cannot convert to float\")\n",
        "\n",
        "    if input_string.lower() == \"true\":\n",
        "        boolean_value = True\n",
        "    elif input_string.lower() == \"false\":\n",
        "        boolean_value = False\n",
        "    else:\n",
        "        boolean_value = None\n",
        "        print(\"Cannot convert to boolean\")\n",
        "\n",
        "    return integer_value, float_value, boolean_value\n",
        "\n",
        "# Get user input\n",
        "user_input = input(\"Enter a value: \")\n",
        "\n",
        "# Convert the input string to different types\n",
        "integer_result, float_result, boolean_result = convert_string_to_types(user_input)\n",
        "\n",
        "# Print the results\n",
        "if integer_result is not None:\n",
        "    print(\"Integer value:\", integer_result)\n",
        "if float_result is not None:\n",
        "    print(\"Float value:\", float_result)\n",
        "if boolean_result is not None:\n",
        "    print(\"Boolean value:\", boolean_result)"
      ],
      "metadata": {
        "colab": {
          "base_uri": "https://localhost:8080/"
        },
        "id": "JLaR0D6sTNBi",
        "outputId": "dc84b60a-a260-4aa4-8932-6f020b093c2a"
      },
      "execution_count": 12,
      "outputs": [
        {
          "output_type": "stream",
          "name": "stdout",
          "text": [
            "Enter a value: 55\n",
            "Cannot convert to boolean\n",
            "Integer value: 55\n",
            "Float value: 55.0\n"
          ]
        }
      ]
    },
    {
      "cell_type": "markdown",
      "source": [
        "10. Write code to demonstrate type casting with list elements."
      ],
      "metadata": {
        "id": "QD6phh58Tg5D"
      }
    },
    {
      "cell_type": "code",
      "source": [
        "my_list = ['1', '2', '3', '4', '5']\n",
        "\n",
        "# Convert string elements to integers\n",
        "int_list = list(map(int, my_list))\n",
        "print(\"List of integers:\", int_list)\n",
        "\n",
        "# Convert integer elements back to strings\n",
        "str_list = list(map(str, int_list))\n",
        "print(\"List of strings:\", str_list)\n",
        "\n",
        "# Convert string elements to float\n",
        "float_list = list(map(float, my_list))\n",
        "print(\"List of floats:\", float_list)"
      ],
      "metadata": {
        "colab": {
          "base_uri": "https://localhost:8080/"
        },
        "id": "enj-mXfHTZN-",
        "outputId": "23c354d1-6d48-458f-e5e2-183c188af97b"
      },
      "execution_count": 13,
      "outputs": [
        {
          "output_type": "stream",
          "name": "stdout",
          "text": [
            "List of integers: [1, 2, 3, 4, 5]\n",
            "List of strings: ['1', '2', '3', '4', '5']\n",
            "List of floats: [1.0, 2.0, 3.0, 4.0, 5.0]\n"
          ]
        }
      ]
    },
    {
      "cell_type": "markdown",
      "source": [
        "11. Write a program that checks if a number is positive, negative, or zero."
      ],
      "metadata": {
        "id": "S45jkgqPVz9z"
      }
    },
    {
      "cell_type": "code",
      "source": [
        "# Get input from the user\n",
        "num = float(input(\"Enter a number: \"))\n",
        "\n",
        "# Check the condition\n",
        "if num > 0:\n",
        "    print(\"The number is positive.\")\n",
        "elif num < 0:\n",
        "    print(\"The number is negative.\")\n",
        "else:\n",
        "    print(\"The number is zero.\")\n"
      ],
      "metadata": {
        "colab": {
          "base_uri": "https://localhost:8080/"
        },
        "id": "0C_-Oce4UzAB",
        "outputId": "fa934107-aad2-40ea-d18d-08f604d9db6f"
      },
      "execution_count": 16,
      "outputs": [
        {
          "output_type": "stream",
          "name": "stdout",
          "text": [
            "Enter a number: -8327\n",
            "The number is negative.\n"
          ]
        }
      ]
    },
    {
      "cell_type": "markdown",
      "source": [
        "12. Write a for loop to print numbers from 1 to 10."
      ],
      "metadata": {
        "id": "ffuP4hFKWg10"
      }
    },
    {
      "cell_type": "code",
      "source": [
        "for i in range(1, 11):\n",
        "    print(i)"
      ],
      "metadata": {
        "colab": {
          "base_uri": "https://localhost:8080/"
        },
        "id": "QmXsOaidWMrC",
        "outputId": "1b876b3d-440d-4b29-c216-a83fdf92c5e7"
      },
      "execution_count": 17,
      "outputs": [
        {
          "output_type": "stream",
          "name": "stdout",
          "text": [
            "1\n",
            "2\n",
            "3\n",
            "4\n",
            "5\n",
            "6\n",
            "7\n",
            "8\n",
            "9\n",
            "10\n"
          ]
        }
      ]
    },
    {
      "cell_type": "markdown",
      "source": [
        "13. Write a Python program to find the sum of all even numbers between 1 and 50."
      ],
      "metadata": {
        "id": "GNLxSCNpW40S"
      }
    },
    {
      "cell_type": "code",
      "source": [
        "total = 0\n",
        "\n",
        "for num in range(1, 51):\n",
        "    if num % 2 == 0:\n",
        "        total += num\n",
        "\n",
        "print(\"Sum of even numbers from 1 to 50 is:\", total)"
      ],
      "metadata": {
        "colab": {
          "base_uri": "https://localhost:8080/"
        },
        "id": "PaXkXZ4pWzQz",
        "outputId": "64eb19ab-0682-4772-bec1-8c90131d1e92"
      },
      "execution_count": 18,
      "outputs": [
        {
          "output_type": "stream",
          "name": "stdout",
          "text": [
            "Sum of even numbers from 1 to 50 is: 650\n"
          ]
        }
      ]
    },
    {
      "cell_type": "markdown",
      "source": [
        "14. Write a program to reverse a string using a while loop."
      ],
      "metadata": {
        "id": "y8vna1I9XLzz"
      }
    },
    {
      "cell_type": "code",
      "source": [
        "# Get input from the user\n",
        "text = input(\"Enter a string: \")\n",
        "\n",
        "# Initialize variables\n",
        "reversed_text = \"\"\n",
        "index = len(text) - 1\n",
        "\n",
        "# Reverse using while loop\n",
        "while index >= 0:\n",
        "    reversed_text += text[index]\n",
        "    index -= 1\n",
        "\n",
        "# Display the result\n",
        "print(\"Reversed string:\", reversed_text)\n"
      ],
      "metadata": {
        "colab": {
          "base_uri": "https://localhost:8080/"
        },
        "id": "c9-zqgXDXF-V",
        "outputId": "50f78457-146f-4f3a-fca5-4a924b29e33f"
      },
      "execution_count": 21,
      "outputs": [
        {
          "output_type": "stream",
          "name": "stdout",
          "text": [
            "Enter a string: 94\n",
            "Reversed string: 49\n"
          ]
        }
      ]
    },
    {
      "cell_type": "markdown",
      "source": [
        "15. Write a Python program to calculate the factorial of a number provided by the user using a while loop."
      ],
      "metadata": {
        "id": "i_DptjaYYksT"
      }
    },
    {
      "cell_type": "code",
      "source": [
        "# Get input from the user\n",
        "num = int(input(\"Enter a number: \"))\n",
        "\n",
        "# Initialize variables\n",
        "factorial = 1\n",
        "i = 1\n",
        "\n",
        "# Check for negative numbers\n",
        "if num < 0:\n",
        "    print(\"Factorial is not defined for negative numbers.\")\n",
        "else:\n",
        "    while i <= num:\n",
        "        factorial *= i\n",
        "        i += 1\n",
        "    print(\"Factorial of\", num, \"is:\", factorial)"
      ],
      "metadata": {
        "colab": {
          "base_uri": "https://localhost:8080/"
        },
        "id": "E7hWQUGNYNod",
        "outputId": "4108b002-caaa-41d9-afec-b72f1bca5c2c"
      },
      "execution_count": 24,
      "outputs": [
        {
          "output_type": "stream",
          "name": "stdout",
          "text": [
            "Enter a number: 6\n",
            "Factorial of 6 is: 720\n"
          ]
        }
      ]
    },
    {
      "cell_type": "code",
      "source": [],
      "metadata": {
        "id": "UDFOw5X9Yxd6"
      },
      "execution_count": null,
      "outputs": []
    }
  ]
}